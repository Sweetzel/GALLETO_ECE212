{
 "cells": [
  {
   "cell_type": "markdown",
   "metadata": {},
   "source": [
    "# Module 1 Scientific Computing Basics\n",
    "\n",
    "## LESSON 1"
   ]
  },
  {
   "cell_type": "markdown",
   "metadata": {},
   "source": [
    "Introduction\n",
    "\n",
    "The goal of this coursepack is to teach you to understand and create computer programs\n",
    "in Python. At the beginning of each chapter, we will outline for you the learning goals and\n",
    "objectives that should be accomplished once you have gone through the chapter.\n",
    "\n",
    "Understanding computer programs requires algorithmic, mechanistic thinking. Programs\n",
    "specify mechanistic sequences of actions to perform; when executed, they transform input\n",
    "data into output data. They execute very reliably, and very fast, but not creatively.\n",
    "Computers do what you tell them to do, not what you mean for them to do. Thus,\n",
    "understanding computer code involves a lot of mental simulation of what will actually\n",
    "happen, not what you wish would happen.\n",
    "\n",
    "Writing computer programs requires not only mechanistic thinking but creative problem\n",
    "solving. Problem solving means the ability to formulate problems, think creatively about\n",
    "solutions, and express a solution clearly and accurately. As it turns out, the process of\n",
    "learning to program is an excellent opportunity to practice problem solving skills."
   ]
  },
  {
   "cell_type": "markdown",
   "metadata": {},
   "source": [
    "Activity\n",
    "\n",
    "1 Why do you think uderstanding computer programs is relevant in our time today\n",
    "especially in the new normal?\n",
    "\n",
    "Since Covid 19 started, we just stay at home and all works and schools are on freeze like we cannot do what our normal days are going. Everything has changed because of covid, we always stay at home so our work and studies are at home too. So in order for us to do it, we should need computer, laptops, smartphones and other gadgets that could help us communicate to others through those devices. But before that, we should know how to understand or use the computer programs cause that is what we are going to use to make it all happen. Indeed, we should know and learn about computer programs cause it is the main of all. A simple computer program is capable of turning things around as you want.\n",
    "\n",
    "2 If you were able to learn computer program what program will you code? Why?\n",
    "\n",
    "If I were able to learn computer program it would be python, since I started learning about it in the coursera and I observed that python is easy to use and versatile, making it a great choice to learn for beginners. It allows us to think like a programmer and not wasting our time with confusing syntax.\n",
    "\n",
    "3 What would be your primary motivation in learning programming?\n",
    "\n",
    "I did not imagine myself learning programming but then I'm an engineering student and I have to learn about it. While I'm learning about it, I just realized that learning programming brought us a lot of good things. First, I observed while learning Python making codes or coding develops structured and develops our creative thinking. Programming makes things easier for us because in just a simple computer program is capable of turning things around as what you wanted it to be.\n",
    "\n"
   ]
  },
  {
   "cell_type": "markdown",
   "metadata": {},
   "source": [
    "Application\n",
    "\n",
    "Ask yourself:\n",
    "\n",
    "1 Why do you think Python is the most applicable programming language for\n",
    "scientific computing?\n",
    "\n",
    "Python is the most applicable programming language for Scientific computing because python has the characteristics that are needed for scientific computing such as python has built-in support for scientific computing, a highly extensible language, has very good input/output options, has strong support for task automation, can use a web front end and python are in the integration of multiple approaches to problem solving.\n",
    "\n",
    "2 If Python can build anything, where do you think Python is not applicable for?\n",
    "\n",
    "Python is not applicable for mobile and game development because of the consumption of more memory and its slow processing speed while compared to the other programming languages.\n"
   ]
  },
  {
   "cell_type": "markdown",
   "metadata": {},
   "source": [
    "Exercise 1: Mailing Address (Solved, 9 Lines)\n",
    "\n",
    "Create a program that displays your name and complete mailing address. The address\n",
    "should be printed in the format that is normally used in the area where you live. Your\n",
    "program does not need to read any input from the user."
   ]
  },
  {
   "cell_type": "code",
   "execution_count": 1,
   "metadata": {},
   "outputs": [
    {
     "name": "stdout",
     "output_type": "stream",
     "text": [
      "Sweetzel A. Galleto\n",
      "Purok 15, Poblacion, Nabunturan, Davao de Oro\n"
     ]
    }
   ],
   "source": [
    "name = (\"Sweetzel A. Galleto\")\n",
    "address = (\"Purok 15, Poblacion, Nabunturan, Davao de Oro\")\n",
    "\n",
    "print(name)\n",
    "print(address)\n"
   ]
  },
  {
   "cell_type": "markdown",
   "metadata": {},
   "source": [
    "Exercise 2: Area of a Room (Solved, 13 Lines)\n",
    "\n",
    "Write a program that asks the user to enter the width and length of a room. Once\n",
    "these values have been read, your program should compute and display the area of\n",
    "the room. The length and the width will be entered as floating-point numbers. Include\n",
    "units in your prompt and output message; either feet or meters, depending on which\n",
    "unit you are more comfortable working with."
   ]
  },
  {
   "cell_type": "code",
   "execution_count": 2,
   "metadata": {},
   "outputs": [
    {
     "name": "stdout",
     "output_type": "stream",
     "text": [
      "10\n",
      "15\n",
      "The area of the room is  150.0  square meter\n"
     ]
    }
   ],
   "source": [
    "a = float(input())\n",
    "b = float(input())\n",
    "c = a*b\n",
    "\n",
    "print(\"The area of the room is \",round(c,4),\" square meter\")"
   ]
  },
  {
   "cell_type": "markdown",
   "metadata": {},
   "source": [
    "Exercise 3: Arithmetic (Solved, 22 Lines)\n",
    "\n",
    "Create a program that reads two integers, a and b, from the user. Your program should\n",
    "compute and display:\n",
    "\n",
    "• The sum of a and b    \n",
    "• The difference when b is subtracted from a    \n",
    "• The product of a and b     \n",
    "• The quotient when a is divided by b     \n",
    "• The remainder when a is divided by b    \n",
    "• The result of log10 a    \n",
    "• The result of ab\n",
    "\n",
    "Hint: You will probably find the log10 function in the math module helpful\n",
    "for computing the second last item in the list."
   ]
  },
  {
   "cell_type": "code",
   "execution_count": 10,
   "metadata": {},
   "outputs": [
    {
     "name": "stdout",
     "output_type": "stream",
     "text": [
      "Enter first number: 56\n",
      "Enter second number: 4\n",
      "56 + 4 = 60\n",
      "56 - 4 = 52\n",
      "56 * 4 = 224\n",
      "56 / 4 = 14.0\n",
      "56 % 4 = 0\n",
      "math.log10(a) :  1.7481880270062005\n",
      "math.log10(ab): 2.3502480183341627\n"
     ]
    }
   ],
   "source": [
    "import math\n",
    "a = int(input(\"Enter first number: \"))\n",
    "b = int(input(\"Enter second number: \"))\n",
    "print(a, \"+\", b, \"=\",a+b)\n",
    "print(a, \"-\", b, \"=\", a-b)\n",
    "print(a, \"*\", b, \"=\", a*b)\n",
    "print(a, \"/\", b, \"=\", a/b)\n",
    "print(a, \"%\", b, \"=\", a%b)\n",
    "print(\"math.log10(a) : \", math.log10(a))\n",
    "print(\"math.log10(ab):\", math.log10(a)+ math.log10(b))\n",
    "\n"
   ]
  },
  {
   "cell_type": "markdown",
   "metadata": {},
   "source": [
    "Exercise 4: Area and Volume (15 Lines)\n",
    "\n",
    "Write a program that begins by reading a radius, r, from the user. The program will\n",
    "continue by computing and displaying the area of a circle with radius r and the\n",
    "volume of a sphere with radius r. Use the pi constant in the math module in your\n",
    "calculations.\n",
    "\n",
    "Hint: The area of a circle is computed using the formula area = πr2. The\n",
    "volume of a sphere is computed using the formula volume = 4/3 π𝑟3"
   ]
  },
  {
   "cell_type": "code",
   "execution_count": 11,
   "metadata": {},
   "outputs": [
    {
     "name": "stdout",
     "output_type": "stream",
     "text": [
      "Radius of Circle/Sphere: 25\n",
      "The Area of the circle is:  1962.5\n",
      "The Volume of the sphere is:  65416.666666666664\n"
     ]
    }
   ],
   "source": [
    "pi = 3.14\n",
    "radius = float(input('Radius of Circle/Sphere: '))\n",
    "area = pi * radius ** 2\n",
    "volume = (4/3) * (pi * radius ** 3)\n",
    "\n",
    "print(\"The Area of the circle is: \", area)\n",
    "print(\"The Volume of the sphere is: \", volume)\n"
   ]
  },
  {
   "cell_type": "markdown",
   "metadata": {},
   "source": [
    "## Congratulations! You’re done with Lesson 1."
   ]
  }
 ],
 "metadata": {
  "kernelspec": {
   "display_name": "Python 3",
   "language": "python",
   "name": "python3"
  },
  "language_info": {
   "codemirror_mode": {
    "name": "ipython",
    "version": 3
   },
   "file_extension": ".py",
   "mimetype": "text/x-python",
   "name": "python",
   "nbconvert_exporter": "python",
   "pygments_lexer": "ipython3",
   "version": "3.6.11"
  }
 },
 "nbformat": 4,
 "nbformat_minor": 4
}
